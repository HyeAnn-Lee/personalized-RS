{
 "cells": [
  {
   "cell_type": "markdown",
   "metadata": {},
   "source": [
    "# 협업필터링(CF) 추천 - Bias from mean"
   ]
  },
  {
   "cell_type": "code",
   "execution_count": 1,
   "metadata": {},
   "outputs": [
    {
     "name": "stdout",
     "output_type": "stream",
     "text": [
      "NumPy v1.25.0\n",
      "pandas v1.5.3\n",
      "scikit-learn v1.2.0\n",
      "Python v3.9.16 (main, May 17 2023, 17:49:16) [MSC v.1916 64 bit (AMD64)]\n"
     ]
    }
   ],
   "source": [
    "import numpy as np\n",
    "print(f'NumPy v{np.__version__}')\n",
    "\n",
    "import pandas as pd\n",
    "print(f'pandas v{pd.__version__}')\n",
    "\n",
    "import sklearn\n",
    "print(f'scikit-learn v{sklearn.__version__}')\n",
    "\n",
    "# Only for specifying versions\n",
    "import sys; print(f'Python v{sys.version}')"
   ]
  },
  {
   "cell_type": "markdown",
   "metadata": {},
   "source": [
    "## 3.6 사용자의 평가경향을 고려한 CF\n",
    "\n",
    "CF의 정확도를 더 개선시키는 방법 중의 하나는 사용자의 평가경향(user bias)을 고려해서 예측치를 조정하는 것이다. 사용자에 따라서 평가를 전체적으로 높게 하는 사람이 있는 반면에 평가를 전체적으로 낮게 하는 사람이 있는 등, 사람에 따라 평가경향이 다르다.\n",
    "\n",
    "1. 각 사용자의 평점평균을 구한다.\n",
    "2. 각 아이템의 평점을 각 사용자의 평균에서의 차이(평점 - 해당 사용자의 평점 평균)로 변환한다. 편의상 평점과 평균의 차이를 평점편차로 부르기로 한다.\n",
    "3. 평점편차를 사용해서 해당 사용자의 해당 아이템의 편차 예측값(평점편차의 예측값)을 구한다. 구체적으로는 해당 사용자의 이웃을 구하고 이들 이웃의 해당 아이템에 대한 평점편차와 유사도를 가중평균한다.\n",
    "4. 이렇게 구한 편차 예측값은 평균에서의 차이를 의미하기 때문에 실제 예측값으로 변환하기 위해서 현 사용자의 평균에 이 편차 예측값을 더해준다.\n",
    "5. 예측값을 구할 수 없는 경우에 지금까지는 3.0을 할당했는데, 이번에는 해당 사용자의 평점평균으로 대체한다."
   ]
  },
  {
   "cell_type": "markdown",
   "metadata": {},
   "source": [
    "아래의 cell은 `3-2.ipynb`의 2~3번째 cell과 동일한 코드이다."
   ]
  },
  {
   "cell_type": "code",
   "execution_count": 2,
   "metadata": {},
   "outputs": [],
   "source": [
    "# 데이터 읽어 오기\n",
    "u_cols = ['user_id', 'age', 'sex', 'occupation', 'zip_code']\n",
    "users = pd.read_csv('../Data/u.user', sep='|', names=u_cols, encoding='latin-1')\n",
    "\n",
    "i_cols = ['movie_id', 'title', 'release date', 'video release date', 'IMDB URL', 'unknown', \n",
    "          'Action', 'Adventure', 'Animation', 'Children\\'s', 'Comedy', 'Crime', 'Documentary', \n",
    "          'Drama', 'Fantasy', 'Film-Noir', 'Horror', 'Musical', 'Mystery', 'Romance', 'Sci-Fi', \n",
    "          'Thriller', 'War', 'Western']\n",
    "movies = pd.read_csv('../Data/u.item', sep='|', names=i_cols, encoding='latin-1')\n",
    "\n",
    "r_cols = ['user_id', 'movie_id', 'rating', 'timestamp']\n",
    "ratings = pd.read_csv('../Data/u.data', sep='\\t', names=r_cols, encoding='latin-1')\n",
    "\n",
    "# movie ID와 title 빼고 다른 데이터 제거\n",
    "movies = movies[['movie_id', 'title']]\n",
    "\n",
    "# timestamp 제거 \n",
    "ratings.drop('timestamp', axis='columns', inplace=True)\n",
    "\n",
    "# train, test set 분리\n",
    "from sklearn.model_selection import train_test_split\n",
    "x = ratings.copy()\n",
    "y = ratings['user_id']\n",
    "x_train, x_test, y_train, y_test = train_test_split(x, y, test_size=0.25, random_state=42, stratify=y)\n",
    "\n",
    "# 정확도(RMSE)를 계산하는 함수\n",
    "def RMSE(y_true, y_pred):\n",
    "    return np.sqrt(np.mean((np.array(y_true) - np.array(y_pred))**2))\n",
    "\n",
    "# 모델별 RMSE를 계산하는 함수 \n",
    "def score(model, neighbor_size=0):\n",
    "    id_pairs = zip(x_test['user_id'], x_test['movie_id'])\n",
    "    y_pred = np.array([model(user, movie, neighbor_size) for (user, movie) in id_pairs])\n",
    "    y_true = np.array(x_test['rating'])\n",
    "    return RMSE(y_true, y_pred)\n",
    "\n",
    "# train 데이터로 Full matrix 구하기 \n",
    "rating_matrix = x_train.pivot(index='user_id', columns='movie_id', values='rating')\n",
    "\n",
    "# train set의 모든 가능한 사용자 pair의 Cosine similarities 계산\n",
    "from sklearn.metrics.pairwise import cosine_similarity\n",
    "u_id = rating_matrix.index\n",
    "matrix_dummy = rating_matrix.copy().fillna(0)\n",
    "user_similarity = cosine_similarity(matrix_dummy)\n",
    "user_similarity = pd.DataFrame(user_similarity, index=u_id, columns=u_id)"
   ]
  },
  {
   "cell_type": "code",
   "execution_count": 3,
   "metadata": {},
   "outputs": [
    {
     "data": {
      "text/plain": [
       "(943, 1641)"
      ]
     },
     "execution_count": 3,
     "metadata": {},
     "output_type": "execute_result"
    }
   ],
   "source": [
    "rating_matrix.shape"
   ]
  },
  {
   "cell_type": "code",
   "execution_count": 4,
   "metadata": {},
   "outputs": [
    {
     "data": {
      "text/plain": [
       "(943,)"
      ]
     },
     "execution_count": 4,
     "metadata": {},
     "output_type": "execute_result"
    }
   ],
   "source": [
    "# train 데이터의 user의 rating 평균과 영화의 평점편차 계산\n",
    "rating_mean = rating_matrix.mean(axis='columns')\n",
    "rating_mean.shape"
   ]
  },
  {
   "cell_type": "code",
   "execution_count": 5,
   "metadata": {},
   "outputs": [
    {
     "data": {
      "text/plain": [
       "(943, 1641)"
      ]
     },
     "execution_count": 5,
     "metadata": {},
     "output_type": "execute_result"
    }
   ],
   "source": [
    "rating_bias = (rating_matrix.T - rating_mean).T\n",
    "rating_bias.shape"
   ]
  },
  {
   "cell_type": "code",
   "execution_count": 6,
   "metadata": {},
   "outputs": [
    {
     "data": {
      "text/plain": [
       "0.9485429509551335"
      ]
     },
     "execution_count": 6,
     "metadata": {},
     "output_type": "execute_result"
    }
   ],
   "source": [
    "def CF_knn_bias(user_id, movie_id, neighbor_size=0):\n",
    "    if movie_id in rating_bias:\n",
    "        # 현 user와 다른 사용자 간의 유사도 가져오기\n",
    "        sim_scores = user_similarity[user_id].copy()\n",
    "\n",
    "        # 현 movie의 평점편차 가져오기\n",
    "        movie_ratings = rating_bias[movie_id].copy()\n",
    "\n",
    "        # 현 movie에 대한 rating이 없는 사용자 삭제\n",
    "        none_rating_idx = movie_ratings[movie_ratings.isnull()].index\n",
    "        movie_ratings.drop(none_rating_idx, inplace=True)\n",
    "        sim_scores.drop(none_rating_idx, inplace=True)\n",
    "\n",
    "        if neighbor_size == 0:  # Neighbor size가 지정되지 않은 경우\n",
    "            # 편차로 예측값(편차 예측값) 계산\n",
    "            prediction = np.dot(sim_scores, movie_ratings) / sim_scores.sum()\n",
    "            # 편차 예측값에 현 사용자의 평균 더하기\n",
    "            prediction += rating_mean[user_id]\n",
    "\n",
    "        else:                   # Neighbor size가 지정된 경우\n",
    "            # 해당 영화를 평가한 사용자가 최소 2명이 되는 경우에만 계산            \n",
    "            if len(sim_scores) > 1:\n",
    "                # 지정된 neighbor size 값과 해당 영화를 평가한 총사용자 수 중 작은 것으로 결정\n",
    "                neighbor_size = min(neighbor_size, len(sim_scores))\n",
    "\n",
    "                # array로 바꾸기 (argsort를 사용하기 위함)\n",
    "                sim_scores = sim_scores.to_numpy()\n",
    "                movie_ratings = movie_ratings.to_numpy()\n",
    "\n",
    "                # 유사도를 순서대로 정렬\n",
    "                user_idx = np.argsort(sim_scores)\n",
    "                selected_idx = user_idx[-neighbor_size:]\n",
    "\n",
    "                # 유사도와 rating을 neighbor size만큼 받기\n",
    "                sim_scores = sim_scores[selected_idx]\n",
    "                movie_ratings = movie_ratings[selected_idx]\n",
    "\n",
    "                # 편차로 예측치 계산\n",
    "                prediction = np.dot(sim_scores, movie_ratings) / sim_scores.sum()\n",
    "                # 예측값에 현 사용자의 평균 더하기\n",
    "                prediction += rating_mean[user_id]\n",
    "            else:\n",
    "                prediction = rating_mean[user_id]\n",
    "    else:\n",
    "        prediction = rating_mean[user_id]\n",
    "\n",
    "    # if prediction < 1:\n",
    "    #     return 1\n",
    "    # if prediction > 5:\n",
    "    #     return 5\n",
    "    return prediction\n",
    "\n",
    "score(CF_knn_bias, neighbor_size=30)"
   ]
  },
  {
   "cell_type": "markdown",
   "metadata": {},
   "source": [
    "RMSE가 0.949로 사용자의 평가경향을 고려하지 않은 `3-2.ipynb`의 `cf_knn()`(1.017)보다 크게 개선되었음을 알 수 있다.\n",
    "\n",
    "다만, 알고리즘의 특성 상 prediction이 1 미만 혹은 5 초과의 값을 가질 수 있는데 (아래 연습문제의 결과 참고), `return` 전에 post processing으로 clipping을 해주면 결과가 조금 더 정확할 수 있다. (clipping 후의 RMSE는 0.947)"
   ]
  },
  {
   "cell_type": "markdown",
   "metadata": {},
   "source": [
    "## 연습문제"
   ]
  },
  {
   "cell_type": "markdown",
   "metadata": {},
   "source": [
    "Q. 코드를 수정하여 사용자 ID를 지정하면 해당 사용자를 위해 5개의 영화를 추천하도록 하라. 그 결과를 3.4의 추천 결과(`3-2.ipynb`)와 비교하라."
   ]
  },
  {
   "cell_type": "code",
   "execution_count": 7,
   "metadata": {},
   "outputs": [],
   "source": [
    "movies.set_index('movie_id', inplace=True)"
   ]
  },
  {
   "cell_type": "code",
   "execution_count": 8,
   "metadata": {},
   "outputs": [
    {
     "data": {
      "text/html": [
       "<div>\n",
       "<style scoped>\n",
       "    .dataframe tbody tr th:only-of-type {\n",
       "        vertical-align: middle;\n",
       "    }\n",
       "\n",
       "    .dataframe tbody tr th {\n",
       "        vertical-align: top;\n",
       "    }\n",
       "\n",
       "    .dataframe thead th {\n",
       "        text-align: right;\n",
       "    }\n",
       "</style>\n",
       "<table border=\"1\" class=\"dataframe\">\n",
       "  <thead>\n",
       "    <tr style=\"text-align: right;\">\n",
       "      <th></th>\n",
       "      <th>prediction</th>\n",
       "      <th>movie title</th>\n",
       "    </tr>\n",
       "    <tr>\n",
       "      <th>movie_id</th>\n",
       "      <th></th>\n",
       "      <th></th>\n",
       "    </tr>\n",
       "  </thead>\n",
       "  <tbody>\n",
       "    <tr>\n",
       "      <th>851</th>\n",
       "      <td>5.614679</td>\n",
       "      <td>Two or Three Things I Know About Her (1966)</td>\n",
       "    </tr>\n",
       "    <tr>\n",
       "      <th>1512</th>\n",
       "      <td>5.332438</td>\n",
       "      <td>World of Apu, The (Apur Sansar) (1959)</td>\n",
       "    </tr>\n",
       "    <tr>\n",
       "      <th>1467</th>\n",
       "      <td>5.196731</td>\n",
       "      <td>Saint of Fort Washington, The (1993)</td>\n",
       "    </tr>\n",
       "    <tr>\n",
       "      <th>1591</th>\n",
       "      <td>5.195337</td>\n",
       "      <td>Duoluo tianshi (1995)</td>\n",
       "    </tr>\n",
       "    <tr>\n",
       "      <th>1293</th>\n",
       "      <td>5.119964</td>\n",
       "      <td>Star Kid (1997)</td>\n",
       "    </tr>\n",
       "    <tr>\n",
       "      <th>1500</th>\n",
       "      <td>5.064014</td>\n",
       "      <td>Santa with Muscles (1996)</td>\n",
       "    </tr>\n",
       "    <tr>\n",
       "      <th>1449</th>\n",
       "      <td>5.007031</td>\n",
       "      <td>Pather Panchali (1955)</td>\n",
       "    </tr>\n",
       "    <tr>\n",
       "      <th>1499</th>\n",
       "      <td>4.930905</td>\n",
       "      <td>Grosse Fatigue (1994)</td>\n",
       "    </tr>\n",
       "    <tr>\n",
       "      <th>1398</th>\n",
       "      <td>4.926353</td>\n",
       "      <td>Anna (1996)</td>\n",
       "    </tr>\n",
       "    <tr>\n",
       "      <th>1443</th>\n",
       "      <td>4.899048</td>\n",
       "      <td>8 Seconds (1994)</td>\n",
       "    </tr>\n",
       "  </tbody>\n",
       "</table>\n",
       "</div>"
      ],
      "text/plain": [
       "          prediction                                  movie title\n",
       "movie_id                                                         \n",
       "851         5.614679  Two or Three Things I Know About Her (1966)\n",
       "1512        5.332438       World of Apu, The (Apur Sansar) (1959)\n",
       "1467        5.196731         Saint of Fort Washington, The (1993)\n",
       "1591        5.195337                        Duoluo tianshi (1995)\n",
       "1293        5.119964                              Star Kid (1997)\n",
       "1500        5.064014                    Santa with Muscles (1996)\n",
       "1449        5.007031                       Pather Panchali (1955)\n",
       "1499        4.930905                        Grosse Fatigue (1994)\n",
       "1398        4.926353                                  Anna (1996)\n",
       "1443        4.899048                             8 Seconds (1994)"
      ]
     },
     "execution_count": 8,
     "metadata": {},
     "output_type": "execute_result"
    }
   ],
   "source": [
    "# 전체 데이터로 full matrix와 cosine similarity 구하기\n",
    "rating_matrix = ratings.pivot_table(values='rating', index='user_id', columns='movie_id')\n",
    "target_user = 2\n",
    "\n",
    "u_id = rating_matrix.index\n",
    "matrix_dummy = rating_matrix.copy().fillna(0)\n",
    "user_similarity = cosine_similarity(matrix_dummy)\n",
    "user_similarity = pd.DataFrame(user_similarity, index=u_id, columns=u_id)\n",
    "user_similarity.shape\n",
    "\n",
    "def recommender(user, n_items=10, neighbor_size=20):\n",
    "    # 현재 사용자의 모든 아이템에 대한 예상 평점 계산\n",
    "    rated_index = rating_matrix.loc[user][rating_matrix.loc[user] > 0].index    # 이미 평가한 영화 확인\n",
    "    items = rating_matrix.loc[user].drop(rated_index)\n",
    "    i_id = items.index\n",
    "\n",
    "    predictions = [CF_knn_bias(user, item, neighbor_size) for item in i_id]   # 예상평점 계산\n",
    "\n",
    "    recommendations = pd.Series(data=predictions, index=i_id, dtype=float)\n",
    "    recommendations = recommendations.nlargest(n_items)    # 예상평점이 가장 높은 영화 선택\n",
    "    recommended_items = movies.loc[recommendations.index]['title']\n",
    "    return pd.concat({'prediction': recommendations, 'movie title': recommended_items}, axis=1)\n",
    "\n",
    "recommender(user=target_user, n_items=10, neighbor_size=30)"
   ]
  },
  {
   "cell_type": "markdown",
   "metadata": {},
   "source": [
    "`user_id = 2`에 대해 상위 10개 추천 영화를 받아보면, `3-2.ipynb`와 겹치는 영화는 851, 1512, 1467, 1293, 1500, 1443의 6개인 것을 알 수 있다."
   ]
  }
 ],
 "metadata": {
  "kernelspec": {
   "display_name": "personalizedRS",
   "language": "python",
   "name": "python3"
  },
  "language_info": {
   "codemirror_mode": {
    "name": "ipython",
    "version": 3
   },
   "file_extension": ".py",
   "mimetype": "text/x-python",
   "name": "python",
   "nbconvert_exporter": "python",
   "pygments_lexer": "ipython3",
   "version": "3.9.16"
  },
  "orig_nbformat": 4
 },
 "nbformat": 4,
 "nbformat_minor": 2
}
